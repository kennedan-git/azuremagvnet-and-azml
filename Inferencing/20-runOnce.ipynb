{
 "cells": [
  {
   "cell_type": "code",
   "execution_count": null,
   "metadata": {},
   "outputs": [],
   "source": [
    "from azureml.core import Workspace\n",
    "from azureml.core.compute.aks import AksUpdateConfiguration\n",
    "from azureml.core.compute import AksCompute, ComputeTarget\n",
    "\n",
    "ws = Workspace.from_config()\n",
    "#Make sure the image build compute is set to the cpu cluster / the ACR service will not be able to get into the private container registry\n",
    "ws.update(image_build_compute = 'cpu-cluster')\n",
    "\n",
    "# When you create an AKS cluster, you can specify Internal Load Balancer to be created with provisioning_config object\n",
    "provisioning_config = AksCompute.provisioning_configuration(load_balancer_type = 'InternalLoadBalancer')\n",
    "\n",
    "# when you attach an AKS cluster, you can update the cluster to use internal load balancer after attach\n",
    "aks_target = AksCompute(ws,\"k8-inf-comp\")\n",
    "\n",
    "# Change to the name of the subnet that contains AKS\n",
    "subnet_name = \"aml-aks-subnet-vm1mzh\"\n",
    "# Update AKS configuration to use an internal load balancer\n",
    "update_config = AksUpdateConfiguration(None, \"InternalLoadBalancer\", subnet_name)\n",
    "aks_target.update(update_config)\n",
    "# Wait for the operation to complete\n",
    "aks_target.wait_for_completion(show_output = True)\n"
   ]
  }
 ],
 "metadata": {
  "language_info": {
   "name": "python"
  },
  "orig_nbformat": 4
 },
 "nbformat": 4,
 "nbformat_minor": 2
}
