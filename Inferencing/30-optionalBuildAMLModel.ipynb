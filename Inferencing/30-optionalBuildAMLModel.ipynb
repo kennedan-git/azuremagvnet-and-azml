{
 "cells": [
  {
   "cell_type": "code",
   "execution_count": null,
   "metadata": {},
   "outputs": [],
   "source": [
    "import logging\n",
    "import os\n",
    "import json\n",
    "\n",
    "from matplotlib import pyplot as plt\n",
    "import numpy as np\n",
    "import pandas as pd\n",
    "from sklearn import datasets\n",
    "\n",
    "import azureml.core\n",
    "import azureml.train\n",
    "import azureml.train.automl\n",
    "from azureml.core.experiment import Experiment\n",
    "from azureml.core.workspace import Workspace\n",
    "from azureml.core.datastore import Datastore\n",
    "from azureml.core.dataset import Dataset\n",
    "from azureml.train.automl import AutoMLConfig\n",
    "from azureml.train.automl.run import AutoMLRun\n",
    "\n",
    "from azureml.core.compute import AmlCompute\n",
    "from azureml.core.compute import ComputeTarget"
   ]
  },
  {
   "cell_type": "code",
   "execution_count": null,
   "metadata": {},
   "outputs": [],
   "source": [
    "ws = Workspace.from_config()\n",
    "\n",
    "experiment_name = 'imdb-sentiment-demo'\n",
    "project_folder = './sentiment-output/'\n",
    "\n",
    "experiment = Experiment(ws, experiment_name)"
   ]
  },
  {
   "cell_type": "code",
   "execution_count": null,
   "metadata": {},
   "outputs": [],
   "source": [
    "datastore_name = \"workspaceblobstore\" \n",
    "ds = Datastore.get(ws, datastore_name)\n",
    "dataset = Dataset.get_by_name(ws, name='imdb_sentiment')\n",
    "dataset.to_pandas_dataframe()\n",
    "X = dataset.keep_columns(columns=['review'])\n",
    "y = dataset.keep_columns(columns=['sentiment'])\n",
    "print(X.take(5).to_pandas_dataframe())\n",
    "print(y.take(5).to_pandas_dataframe())"
   ]
  },
  {
   "cell_type": "code",
   "execution_count": null,
   "metadata": {},
   "outputs": [],
   "source": [
    "#Create a compute cluster\n",
    "amlcompute_cluster_name = \"cpu-f16sv2\"\n",
    "\n",
    "# Check if this compute target already exists in the workspace\n",
    "cts = ws.compute_targets\n",
    "if amlcompute_cluster_name in cts and cts[amlcompute_cluster_name].type == 'AmlInfDemoCompute':\n",
    "    found = True\n",
    "    print('Found existing compute target, will use it!')\n",
    "    compute_target = cts[amlcompute_cluster_name]\n",
    "else:\n",
    "    print('Creating a new compute target...')\n",
    "    provisioning_config = AmlCompute.provisioning_configuration(vm_size = \"Standard_F16s_v2\", min_nodes = 1, max_nodes = 1,\n",
    "                                                                idle_seconds_before_scaledown=300)\n",
    "    compute_target = ComputeTarget.create(ws, amlcompute_cluster_name, provisioning_config)\n",
    "\n",
    "print('Waiting for cluster creation completion...')\n",
    "compute_target.wait_for_completion(show_output = True, timeout_in_minutes = 20)\n",
    "\n",
    "print('Cluster is ready!')"
   ]
  },
  {
   "cell_type": "code",
   "execution_count": null,
   "metadata": {},
   "outputs": [],
   "source": [
    "#Train the model using automl \n",
    "from azureml.core.runconfig import RunConfiguration\n",
    "from azureml.core.conda_dependencies import CondaDependencies\n",
    "import pkg_resources\n",
    "\n",
    "conda_run_config = RunConfiguration(framework=\"python\")\n",
    "\n",
    "conda_run_config.target = compute_target\n",
    "#conda_run_config.DockerConfiguration = 'use_docker' \n",
    "conda_run_config.environment.docker.enabled = True\n",
    "\n",
    "cd = CondaDependencies.create(conda_packages=['numpy','scikit-learn','py-xgboost<=0.80'],\n",
    "                              pip_packages=['azureml-train-automl'])\n",
    "\n",
    "conda_run_config.environment.python.conda_dependencies = cd"
   ]
  },
  {
   "cell_type": "code",
   "execution_count": null,
   "metadata": {},
   "outputs": [],
   "source": [
    "automl_settings = {\n",
    "    \"iteration_timeout_minutes\": 10,\n",
    "    \"iterations\": 20,\n",
    "    \"n_cross_validations\": 5,\n",
    "    \"primary_metric\": 'AUC_weighted',\n",
    "    \"preprocess\": True,\n",
    "    \"max_concurrent_iterations\": 3,\n",
    "    \"enable_early_stopping\": True,\n",
    "    \"verbosity\": logging.INFO\n",
    "}\n",
    "\n",
    "automl_config = AutoMLConfig(task = 'classification',\n",
    "                             debug_log = 'automl_errors.log',\n",
    "                             path = project_folder,\n",
    "                             run_configuration=conda_run_config,\n",
    "                             X = X,\n",
    "                             y = y,\n",
    "                             **automl_settings)\n",
    "\n",
    "remote_run = experiment.submit(automl_config, show_output = False)"
   ]
  },
  {
   "cell_type": "code",
   "execution_count": null,
   "metadata": {},
   "outputs": [],
   "source": [
    "from azureml.widgets import RunDetails\n",
    "RunDetails(remote_run).show()"
   ]
  },
  {
   "cell_type": "code",
   "execution_count": null,
   "metadata": {},
   "outputs": [],
   "source": [
    "#if the run was already completed\n",
    "from azureml.train.automl.run import AutoMLRun\n",
    "ws = Workspace.from_config()\n",
    "experiment = ws.experiments['imdb-sentiment-demo']\n",
    "automl_run = AutoMLRun(experiment, run_id = 'AutoML_101a437a-c7c0-4884-8baf-174f357decf1')\n",
    "\n",
    "#pick the best performing model \n",
    "#remote_run.wait_for_completion(show_output = False)\n",
    "best_run, fitted_model = automl_run.get_output()\n",
    "#best_run, fitted_model = remote_run.get_output()\n",
    "print(\"results: \", automl_run.get_output())\n",
    "print(\"Run:\", best_run)\n",
    "print(\"Model:\", fitted_model)\n",
    "test = pd.DataFrame(['the food was horrible', 'wow, this movie was truely great, I totally enjoyed it!'], columns = ['Text'])\n",
    "fitted_model.predict(test)"
   ]
  },
  {
   "cell_type": "code",
   "execution_count": null,
   "metadata": {},
   "outputs": [],
   "source": [
    "from azureml.train.automl.run import AutoMLRun\n",
    "ws = Workspace.from_config()\n",
    "experiment = ws.experiments['imdb-sentiment-demo']\n",
    "automl_run = AutoMLRun(experiment, run_id = 'AutoML_101a437a-c7c0-4884-8baf-174f357decf1')\n",
    "best_run, fitted_model = automl_run.get_output()\n",
    "print(best_run)\n",
    "print(fitted_model)"
   ]
  },
  {
   "cell_type": "code",
   "execution_count": null,
   "metadata": {},
   "outputs": [],
   "source": [
    "#test out the model \n",
    "test = pd.DataFrame(['the food was horrible', 'wow, this movie was truely great, I totally enjoyed it!'], columns = ['review'])\n",
    "fitted_model.predict(test)"
   ]
  }
 ],
 "metadata": {
  "language_info": {
   "name": "python"
  },
  "orig_nbformat": 4
 },
 "nbformat": 4,
 "nbformat_minor": 2
}
